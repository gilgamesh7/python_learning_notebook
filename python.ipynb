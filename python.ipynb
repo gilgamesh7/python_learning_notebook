{
 "cells": [
  {
   "cell_type": "markdown",
   "metadata": {},
   "source": [
    "# Python Learning Notebook\n",
    "\n",
    "## Entirely on codespace - using \"Python Codespace\""
   ]
  },
  {
   "cell_type": "code",
   "execution_count": 2,
   "metadata": {},
   "outputs": [
    {
     "name": "stdout",
     "output_type": "stream",
     "text": [
      "Python 3.12.1\n"
     ]
    }
   ],
   "source": [
    "!python --version"
   ]
  },
  {
   "cell_type": "markdown",
   "metadata": {},
   "source": [
    "## Top 15 Python Packages\n",
    "### [Youtube Video](https://youtu.be/OiLgG4CabPo?si=p0TGo80TI4FurZWt)"
   ]
  },
  {
   "cell_type": "code",
   "execution_count": 6,
   "metadata": {},
   "outputs": [
    {
     "name": "stdout",
     "output_type": "stream",
     "text": [
      "{'name': 'Rajesh', 'age': 25}\n",
      "Rajesh\n",
      "25\n"
     ]
    }
   ],
   "source": [
    "import pickle\n",
    "\n",
    "# Save object\n",
    "my_data = {\n",
    "    \"name\" : \"Rajesh\",\n",
    "    \"age\" : 25\n",
    "}\n",
    "\n",
    "with open (\"my_data.pkl\", \"wb\") as file:\n",
    "    pickle.dump(my_data, file)\n",
    "\n",
    "# Load object\n",
    "with open (\"my_data.pkl\", \"rb\") as file:\n",
    "    my_data = pickle.load(file)\n",
    "    print(my_data)\n",
    "    print(my_data[\"name\"])\n",
    "    print(my_data[\"age\"])\n"
   ]
  }
 ],
 "metadata": {
  "kernelspec": {
   "display_name": "venv",
   "language": "python",
   "name": "python3"
  },
  "language_info": {
   "codemirror_mode": {
    "name": "ipython",
    "version": 3
   },
   "file_extension": ".py",
   "mimetype": "text/x-python",
   "name": "python",
   "nbconvert_exporter": "python",
   "pygments_lexer": "ipython3",
   "version": "3.12.1"
  }
 },
 "nbformat": 4,
 "nbformat_minor": 2
}
